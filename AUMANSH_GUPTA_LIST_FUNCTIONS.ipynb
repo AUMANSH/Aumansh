{
  "nbformat": 4,
  "nbformat_minor": 0,
  "metadata": {
    "colab": {
      "provenance": [],
      "authorship_tag": "ABX9TyPIOqdEyqW/8dnSKx+0AXnE",
      "include_colab_link": true
    },
    "kernelspec": {
      "name": "python3",
      "display_name": "Python 3"
    },
    "language_info": {
      "name": "python"
    }
  },
  "cells": [
    {
      "cell_type": "markdown",
      "metadata": {
        "id": "view-in-github",
        "colab_type": "text"
      },
      "source": [
        "<a href=\"https://colab.research.google.com/github/AUMANSH/Data-Science-Projects/blob/main/AUMANSH_GUPTA_LIST_FUNCTIONS.ipynb\" target=\"_parent\"><img src=\"https://colab.research.google.com/assets/colab-badge.svg\" alt=\"Open In Colab\"/></a>"
      ]
    },
    {
      "cell_type": "code",
      "source": [
        "# Lambda functions in Python are small, anonymous functions defined using the `lambda` keyword.\n",
        "# They can take any number of arguments but can only have one expression.\n",
        "# They are often used for short, simple operations where defining a full function would be unnecessary.\n",
        "\n",
        "# Example:\n",
        "double = lambda x: x * 2\n",
        "print(double(5))  # Output: 10"
      ],
      "metadata": {
        "colab": {
          "base_uri": "https://localhost:8080/"
        },
        "id": "gb6Ux05Ry0Im",
        "outputId": "26285517-e717-43d0-aa46-cd46e6877499"
      },
      "execution_count": null,
      "outputs": [
        {
          "output_type": "stream",
          "name": "stdout",
          "text": [
            "10\n"
          ]
        }
      ]
    },
    {
      "cell_type": "code",
      "source": [
        "# Parameters vs Arguments:\n",
        "\n",
        "# Parameters are the names listed in the function definition. They act as placeholders for the values that will be passed to the function when it's called.\n",
        "# Arguments are the actual values passed to the function when it's called. They correspond to the parameters in the function definition.\n",
        "\n",
        "# Purpose of a Return Statement:\n",
        "\n",
        "# A return statement is used to send a value back from a function to the place where it was called. It allows the function to produce a result that can be used in other parts of the program.\n",
        "\n",
        "\n",
        "\n",
        "\n",
        "# Default Arguments:\n",
        "\n",
        "# Default arguments are values assigned to parameters in the function definition. If a value for that parameter is not provided when the function is called, the default value is used.\n",
        "\n",
        "def greet(name, greeting=\"Hello\"):\n",
        "  \"\"\"\n",
        "  This function greets a person with a given name and greeting.\n",
        "\n",
        "  Args:\n",
        "    name: The name of the person to greet.\n",
        "    greeting: The greeting to use (default is \"Hello\").\n",
        "  \"\"\"\n",
        "  print(f\"{greeting}, {name}!\")\n",
        "\n",
        "greet(\"Bob\")           # Output: Hello, Bob!\n",
        "greet(\"Eve\", \"Hi\")     # Output: Hi, Eve!\n"
      ],
      "metadata": {
        "colab": {
          "base_uri": "https://localhost:8080/"
        },
        "id": "CLKyrgogzEFv",
        "outputId": "115dcbe3-2724-496f-9106-d6d47d0c74dc"
      },
      "execution_count": null,
      "outputs": [
        {
          "output_type": "stream",
          "name": "stdout",
          "text": [
            "Hello, Bob!\n",
            "Hi, Eve!\n"
          ]
        }
      ]
    },
    {
      "cell_type": "code",
      "source": [
        "# Returning Multiple Values:\n",
        "\n",
        "# You can return multiple values from a function by packing them into a tuple or a list and then unpacking them when the function is called.\n",
        "\n",
        "def get_name_and_age():\n",
        "  \"\"\"\n",
        "  This function returns a tuple containing a name and an age.\n",
        "  \"\"\"\n",
        "  name = \"Alice\"\n",
        "  age = 30\n",
        "  return name, age\n",
        "\n",
        "# Unpacking the returned values:\n",
        "person_name, person_age = get_name_and_age()\n",
        "print(person_name)  # Output: Alice\n",
        "print(person_age)   # Output: 30\n",
        "\n"
      ],
      "metadata": {
        "colab": {
          "base_uri": "https://localhost:8080/"
        },
        "id": "JCsKAC5t0DQB",
        "outputId": "754a731d-ecbc-441f-8729-230324c92e35"
      },
      "execution_count": null,
      "outputs": [
        {
          "output_type": "stream",
          "name": "stdout",
          "text": [
            "Alice\n",
            "30\n"
          ]
        }
      ]
    },
    {
      "cell_type": "code",
      "source": [
        "# Function to Calculate Sum:\n",
        "\n",
        "def sum_numbers(a, b):\n",
        "  \"\"\"\n",
        "  This function takes two numbers as input and returns their sum.\n",
        "\n",
        "  Args:\n",
        "    a: The first number.\n",
        "    b: The second number.\n",
        "\n",
        "  Returns:\n",
        "    The sum of a and b.\n",
        "  \"\"\"\n",
        "  return a + b"
      ],
      "metadata": {
        "id": "hQIJ9nZczxGo"
      },
      "execution_count": null,
      "outputs": []
    },
    {
      "cell_type": "code",
      "source": [
        "# Variable Scope and Functions\n",
        "\n",
        "# In Python, variable scope refers to the region of the code where a variable is accessible.\n",
        "# Variables defined inside a function have local scope, meaning they can only be accessed within that function.\n",
        "# Variables defined outside of any function have global scope and can be accessed from anywhere in the code.\n",
        "\n",
        "# Example\n",
        "def my_function():\n",
        "  x = 10  # Local variable\n",
        "  print(x)\n",
        "\n",
        "my_function()  # Output: 10\n",
        "# print(x)  # This would raise an error because x is not defined in the global scope\n",
        "\n",
        "\n"
      ],
      "metadata": {
        "colab": {
          "base_uri": "https://localhost:8080/"
        },
        "id": "V-q9BJtZzLgH",
        "outputId": "56e194e8-ee2d-4d33-be5f-4a4308876e79"
      },
      "execution_count": null,
      "outputs": [
        {
          "output_type": "stream",
          "name": "stdout",
          "text": [
            "10\n"
          ]
        }
      ]
    },
    {
      "cell_type": "code",
      "source": [
        "# Factorial Function Using Recursion\n",
        "\n",
        "def factorial(n):\n",
        "  \"\"\"\n",
        "  This function calculates the factorial of a number using recursion.\n",
        "  \"\"\"\n",
        "  if n == 0:\n",
        "    return 1\n",
        "  else:\n",
        "    return n * factorial(n - 1)\n",
        "\n",
        "result = factorial(5)\n",
        "print(result)  # Output: 120"
      ],
      "metadata": {
        "colab": {
          "base_uri": "https://localhost:8080/"
        },
        "id": "_o9XX5mT0tYF",
        "outputId": "c008c36f-7820-451f-c669-35f13ceeb4ae"
      },
      "execution_count": null,
      "outputs": [
        {
          "output_type": "stream",
          "name": "stdout",
          "text": [
            "120\n"
          ]
        }
      ]
    },
    {
      "cell_type": "code",
      "source": [
        "import numpy as np\n",
        "\n",
        "# Create a 2x3 NumPy array filled with zeros\n",
        "zeros_array = np.zeros((2, 3))\n",
        "\n",
        "print(zeros_array)\n"
      ],
      "metadata": {
        "colab": {
          "base_uri": "https://localhost:8080/"
        },
        "id": "7v-g1tmx7BUs",
        "outputId": "4e341fc4-915b-48dd-93a2-4551008d6f50"
      },
      "execution_count": null,
      "outputs": [
        {
          "output_type": "stream",
          "name": "stdout",
          "text": [
            "[[0. 0. 0.]\n",
            " [0. 0. 0.]]\n"
          ]
        }
      ]
    },
    {
      "cell_type": "code",
      "source": [
        "import numpy as np\n",
        "\n",
        "my_list = [1, 2, 3, 4]\n",
        "numpy_array = np.array(my_list)\n",
        "\n",
        "print(numpy_array)  # Output: [1 2 3 4]\n"
      ],
      "metadata": {
        "colab": {
          "base_uri": "https://localhost:8080/"
        },
        "id": "7pvFUBKx3VOE",
        "outputId": "8f92a210-9f61-42fa-9c86-671f4afa0a67"
      },
      "execution_count": null,
      "outputs": [
        {
          "output_type": "stream",
          "name": "stdout",
          "text": [
            "[1 2 3 4]\n"
          ]
        }
      ]
    },
    {
      "cell_type": "code",
      "source": [
        "import numpy as np\n",
        "\n",
        "# Create two NumPy arrays\n",
        "arr1 = np.array([1, 2, 3])\n",
        "arr2 = np.array([4, 5, 6])\n",
        "\n",
        "# Perform element-wise addition\n",
        "result = arr1 + arr2\n",
        "\n",
        "print(result)  # Output: [5 7 9]"
      ],
      "metadata": {
        "colab": {
          "base_uri": "https://localhost:8080/"
        },
        "id": "2cZ7sbGz66Qy",
        "outputId": "034fa78f-c1c0-4cfd-e8a0-01564d200fea"
      },
      "execution_count": null,
      "outputs": [
        {
          "output_type": "stream",
          "name": "stdout",
          "text": [
            "[5 7 9]\n"
          ]
        }
      ]
    },
    {
      "cell_type": "code",
      "source": [
        "# Python lists can store elements of different data types, while NumPy arrays are designed to store elements of the same data type.\n",
        "# This allows for efficient numerical operations and optimized memory usage in NumPy arrays.\n",
        "\n",
        "# Example:\n",
        "my_list = [1, \"hello\", 3.14]  # A list with different data types\n",
        "my_array = np.array([1, 2, 3, 4])  # A NumPy array with integers\n",
        "\n",
        "print(my_list)\n",
        "print(my_array)\n"
      ],
      "metadata": {
        "colab": {
          "base_uri": "https://localhost:8080/"
        },
        "id": "MSwV05j3370m",
        "outputId": "7328bd87-489d-409a-b74e-b28d0dc1fc93"
      },
      "execution_count": null,
      "outputs": [
        {
          "output_type": "stream",
          "name": "stdout",
          "text": [
            "[1, 'hello', 3.14]\n",
            "[1 2 3 4]\n"
          ]
        }
      ]
    },
    {
      "cell_type": "code",
      "source": [
        "# NumPy arrays support vectorized operations, meaning you can perform operations on entire arrays without explicit loops.\n",
        "# This leads to significant performance gains compared to iterating over lists.\n",
        "\n",
        "# Example:\n",
        "a = np.array([1, 2, 3])\n",
        "b = np.array([4, 5, 6])\n",
        "c = a + b  # Element-wise addition of arrays\n",
        "print(c)  # Output: [5 7 9]\n",
        "\n"
      ],
      "metadata": {
        "colab": {
          "base_uri": "https://localhost:8080/"
        },
        "id": "b9f7V-m24JjS",
        "outputId": "bb6c11c3-0ab0-4893-fe42-65a6fe86fd62"
      },
      "execution_count": null,
      "outputs": [
        {
          "output_type": "stream",
          "name": "stdout",
          "text": [
            "[5 7 9]\n"
          ]
        }
      ]
    },
    {
      "cell_type": "code",
      "source": [
        "# NumPy provides a wide range of functions for mathematical and scientific computations that are not available for lists.\n",
        "# These functions are optimized for array operations and can handle large datasets efficiently.\n",
        "\n",
        "# Example:\n",
        "mean = np.mean(my_array)\n",
        "std_dev = np.std(my_array)\n",
        "print(mean)  # Output: 2.5\n",
        "print(std_dev)  # Output: 1.118033988749895\n"
      ],
      "metadata": {
        "colab": {
          "base_uri": "https://localhost:8080/"
        },
        "id": "O_sV-LF86dgD",
        "outputId": "23125b78-09b4-49c8-e36c-74773cf9a033"
      },
      "execution_count": null,
      "outputs": [
        {
          "output_type": "stream",
          "name": "stdout",
          "text": [
            "2.5\n",
            "1.118033988749895\n"
          ]
        }
      ]
    },
    {
      "cell_type": "code",
      "source": [
        "import numpy as np"
      ],
      "metadata": {
        "id": "WaNmlsTC309L"
      },
      "execution_count": null,
      "outputs": []
    },
    {
      "cell_type": "code",
      "source": [
        "# Create a NumPy array\n",
        "my_array = np.array([1, 2, 3, 4, 5])\n",
        "\n",
        "# Calculate mean and standard deviation\n",
        "mean = np.mean(my_array)\n",
        "std_dev = np.std(my_array)\n",
        "\n",
        "print(\"Mean:\", mean)\n",
        "print(\"Standard Deviation:\", std_dev)"
      ],
      "metadata": {
        "colab": {
          "base_uri": "https://localhost:8080/"
        },
        "id": "smoISC4H38w7",
        "outputId": "8c489741-545a-43d3-f45b-0334ef0f5f30"
      },
      "execution_count": null,
      "outputs": [
        {
          "output_type": "stream",
          "name": "stdout",
          "text": [
            "Mean: 3.0\n",
            "Standard Deviation: 1.4142135623730951\n"
          ]
        }
      ]
    },
    {
      "cell_type": "code",
      "source": [
        "# Common functions for creating NumPy arrays:\n",
        "\n",
        "# Zeros: Creates an array filled with zeros.\n",
        "zeros_array = np.zeros(5)  # Creates an array of 5 zeros\n",
        "print(zeros_array)  # Output: [0. 0. 0. 0. 0.]\n",
        "\n",
        "# Ones: Creates an array filled with ones.\n",
        "ones_array = np.ones((2, 3))  # Creates a 2x3 array of ones\n",
        "print(ones_array)\n",
        "# Output:\n",
        "# [[1. 1. 1.]\n",
        "#  [1. 1. 1.]]\n",
        "\n",
        "# Full: Creates an array filled with a specified value.\n",
        "full_array = np.full((3, 2), 7)  # Creates a 3x2 array filled with 7s\n",
        "print(full_array)\n",
        "# Output:\n",
        "# [[7 7]\n",
        "#  [7 7]\n",
        "#  [7 7]]\n",
        "\n",
        "# Arange: Creates an array with evenly spaced values within a given interval.\n",
        "arange_array = np.arange(10, 20, 2)  # Creates an array from 10 to 19 (exclusive) with a step of 2\n",
        "print(arange_array)  # Output: [10 12 14 16 18]\n",
        "\n",
        "# Linspace: Creates an array with evenly spaced values between a start and end point.\n",
        "linspace_array = np.linspace(0, 1, 5)  # Creates an array of 5 evenly spaced values from 0 to 1 (inclusive)\n",
        "print(linspace_array)  # Output: [0.   0.25 0.5  0.75 1.  ]\n"
      ],
      "metadata": {
        "colab": {
          "base_uri": "https://localhost:8080/"
        },
        "id": "eiVh0FBg4VsH",
        "outputId": "f33175b6-38f7-4e95-fad5-85697ffed6a8"
      },
      "execution_count": null,
      "outputs": [
        {
          "output_type": "stream",
          "name": "stdout",
          "text": [
            "[0. 0. 0. 0. 0.]\n",
            "[[1. 1. 1.]\n",
            " [1. 1. 1.]]\n",
            "[[7 7]\n",
            " [7 7]\n",
            " [7 7]]\n",
            "[10 12 14 16 18]\n",
            "[0.   0.25 0.5  0.75 1.  ]\n"
          ]
        }
      ]
    },
    {
      "cell_type": "code",
      "source": [
        "# Accessing elements in NumPy arrays:\n",
        "\n",
        "# 1D array:\n",
        "arr1d = np.array([1, 2, 3, 4])\n",
        "print(arr1d[0])   # Access the first element (index 0): Output: 1\n",
        "print(arr1d[-1])  # Access the last element (index -1): Output: 4\n",
        "print(arr1d[1:3]) # Access a slice from index 1 to 2 (exclusive): Output: [2 3]\n",
        "\n",
        "# 2D array:\n",
        "arr2d = np.array([[1, 2, 3], [4, 5, 6]])\n",
        "print(arr2d[0, 1])  # Access the element at row 0, column 1: Output: 2\n",
        "print(arr2d[:, 1])  # Access all elements in column 1: Output: [2 5]\n",
        "print(arr2d[1, :])  # Access all elements in row 1: Output: [4 5 6]\n"
      ],
      "metadata": {
        "colab": {
          "base_uri": "https://localhost:8080/"
        },
        "id": "LMXtFYMb4rK_",
        "outputId": "8ccb9721-df55-4f07-b354-70c9ecb1421d"
      },
      "execution_count": null,
      "outputs": [
        {
          "output_type": "stream",
          "name": "stdout",
          "text": [
            "1\n",
            "4\n",
            "[2 3]\n",
            "2\n",
            "[2 5]\n",
            "[4 5 6]\n"
          ]
        }
      ]
    },
    {
      "cell_type": "code",
      "source": [
        "# Broadcasting in NumPy:\n",
        "\n",
        "# Broadcasting allows arithmetic operations between arrays of different shapes under certain conditions.\n",
        "# NumPy automatically expands the smaller array to match the shape of the larger array.\n",
        "\n",
        "a = np.array([1, 2, 3])\n",
        "b = 2\n",
        "result = a * b  # Broadcasting: b is multiplied with each element of a\n",
        "print(result)  # Output: [2 4 6]\n"
      ],
      "metadata": {
        "colab": {
          "base_uri": "https://localhost:8080/"
        },
        "id": "RbgWhqyP45qx",
        "outputId": "b7773419-38ea-4dc0-c4cf-4498fddca5e7"
      },
      "execution_count": null,
      "outputs": [
        {
          "output_type": "stream",
          "name": "stdout",
          "text": [
            "[2 4 6]\n"
          ]
        }
      ]
    },
    {
      "cell_type": "code",
      "source": [
        "# Matrix multiplication using NumPy:\n",
        "\n",
        "# The `np.dot()` function is used for matrix multiplication.\n",
        "\n",
        "matrix1 = np.array([[1, 2], [3, 4]])\n",
        "matrix2 = np.array([[5, 6], [7, 8]])\n",
        "result = np.dot(matrix1, matrix2)\n",
        "print(result)\n",
        "# Output:\n",
        "# [[19 22]\n",
        "#  [43 50]]"
      ],
      "metadata": {
        "colab": {
          "base_uri": "https://localhost:8080/"
        },
        "id": "xkYYDCvM5FPp",
        "outputId": "3f773d4b-2bfc-469b-e01a-63796082cf97"
      },
      "execution_count": null,
      "outputs": [
        {
          "output_type": "stream",
          "name": "stdout",
          "text": [
            "[[19 22]\n",
            " [43 50]]\n"
          ]
        }
      ]
    }
  ]
}