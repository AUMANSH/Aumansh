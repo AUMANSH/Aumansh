{
  "nbformat": 4,
  "nbformat_minor": 0,
  "metadata": {
    "colab": {
      "provenance": [],
      "authorship_tag": "ABX9TyOmlQ94kDAYHn6glJ3MUVqv",
      "include_colab_link": true
    },
    "kernelspec": {
      "name": "python3",
      "display_name": "Python 3"
    },
    "language_info": {
      "name": "python"
    }
  },
  "cells": [
    {
      "cell_type": "markdown",
      "metadata": {
        "id": "view-in-github",
        "colab_type": "text"
      },
      "source": [
        "<a href=\"https://colab.research.google.com/github/AUMANSH/Data-Science-Projects/blob/main/Questions_Interview_Python_22_June.ipynb\" target=\"_parent\"><img src=\"https://colab.research.google.com/assets/colab-badge.svg\" alt=\"Open In Colab\"/></a>"
      ]
    },
    {
      "cell_type": "code",
      "source": [
        "# Lists are mutable\n",
        "list1 = [1, 2, 3]\n",
        "list1[0] = 4\n",
        "print(list1)  # Output: [4, 2, 3]\n",
        "\n",
        "# Tuples are immutable\n",
        "tuple1 = (1, 2, 3)\n",
        "# tuple1[0] = 4  # This would raise an error: TypeError: 'tuple' object does not support item assignment\n",
        "print(tuple1)  # Output: (1, 2, 3)\n"
      ],
      "metadata": {
        "colab": {
          "base_uri": "https://localhost:8080/"
        },
        "id": "z1dEDdTd6MLY",
        "outputId": "480a3ef1-597c-40c4-e9bb-43674ea6df55"
      },
      "execution_count": 3,
      "outputs": [
        {
          "output_type": "stream",
          "name": "stdout",
          "text": [
            "[4, 2, 3]\n",
            "(1, 2, 3)\n"
          ]
        }
      ]
    },
    {
      "cell_type": "code",
      "source": [
        "# append adds a single element to the end of the list\n",
        "list1 = [1, 2, 3]\n",
        "list1.append(4)\n",
        "print(list1)  # Output: [1, 2, 3, 4]\n",
        "\n",
        "# extend adds all elements of an iterable (e.g., another list) to the end\n",
        "list2 = [5, 6]\n",
        "list1.extend(list2)\n",
        "print(list1)  # Output: [1, 2, 3, 4, 5, 6]"
      ],
      "metadata": {
        "colab": {
          "base_uri": "https://localhost:8080/"
        },
        "id": "PbTK2rbN6TGb",
        "outputId": "26464e58-2060-4eec-8f71-7749dfe0b6e3"
      },
      "execution_count": 4,
      "outputs": [
        {
          "output_type": "stream",
          "name": "stdout",
          "text": [
            "[1, 2, 3, 4]\n",
            "[1, 2, 3, 4, 5, 6]\n"
          ]
        }
      ]
    },
    {
      "cell_type": "code",
      "source": [
        "# Lambda functions are small, anonymous functions defined using the 'lambda' keyword.\n",
        "# They can take any number of arguments but can only have one expression.\n",
        "# They are often used when you need a function for a short period and don't want to formally define it with 'def'.\n",
        "\n",
        "# Example: squaring a number\n",
        "square = lambda x: x * x\n",
        "print(square(5))  # Output: 25\n"
      ],
      "metadata": {
        "colab": {
          "base_uri": "https://localhost:8080/"
        },
        "id": "gees5YM37Mei",
        "outputId": "d021dd57-7dc5-45b6-91e6-f58e895e1fa2"
      },
      "execution_count": 5,
      "outputs": [
        {
          "output_type": "stream",
          "name": "stdout",
          "text": [
            "25\n"
          ]
        }
      ]
    },
    {
      "cell_type": "code",
      "source": [
        "def find_max(a, b, c):\n",
        "  \"\"\"\n",
        "  This function finds the maximum of three numbers.\n",
        "\n",
        "  Args:\n",
        "      a: The first number.\n",
        "      b: The second number.\n",
        "      c: The third number.\n",
        "\n",
        "  Returns:\n",
        "      The maximum of the three numbers.\n",
        "  \"\"\"\n",
        "  return max(a, b, c)\n",
        "\n",
        "# Example usage\n",
        "result = find_max(10, 5, 20)\n",
        "print(result)  # Output: 20"
      ],
      "metadata": {
        "colab": {
          "base_uri": "https://localhost:8080/"
        },
        "id": "zKX1Vcvu8mY6",
        "outputId": "1c4eb561-7d0d-4d91-b4c8-33d604ff8a59"
      },
      "execution_count": 6,
      "outputs": [
        {
          "output_type": "stream",
          "name": "stdout",
          "text": [
            "20\n"
          ]
        }
      ]
    },
    {
      "cell_type": "code",
      "source": [
        "# 1. Numeric Types:\n",
        "\n",
        "# Integer (int): Represents whole numbers without decimals.\n",
        "x = 10\n",
        "print(type(x))  # Output: <class 'int'>\n",
        "\n",
        "# Float (float): Represents numbers with decimals.\n",
        "y = 3.14\n",
        "print(type(y))  # Output: <class 'float'>\n",
        "\n",
        "# Complex (complex): Represents complex numbers with a real and imaginary part.\n",
        "z = 2 + 3j\n",
        "print(type(z))  # Output: <class 'complex'>"
      ],
      "metadata": {
        "colab": {
          "base_uri": "https://localhost:8080/"
        },
        "id": "vyokOxUg9814",
        "outputId": "c1961a03-2501-4156-ff41-b08a55e5ddf2"
      },
      "execution_count": 8,
      "outputs": [
        {
          "output_type": "stream",
          "name": "stdout",
          "text": [
            "<class 'int'>\n",
            "<class 'float'>\n",
            "<class 'complex'>\n"
          ]
        }
      ]
    },
    {
      "cell_type": "code",
      "source": [
        "# 2. Sequence Types:\n",
        "\n",
        "# String (str): Represents a sequence of characters enclosed in single or double quotes.\n",
        "name = \"John Doe\"\n",
        "print(type(name))  # Output: <class 'str'>\n",
        "\n",
        "# List (list): Represents an ordered, mutable collection of items.\n",
        "numbers = [1, 2, 3, 4]\n",
        "print(type(numbers))  # Output: <class 'list'>\n",
        "\n",
        "# Tuple (tuple): Represents an ordered, immutable collection of items.\n",
        "coordinates = (10, 20)\n",
        "print(type(coordinates))  # Output: <class 'tuple'>"
      ],
      "metadata": {
        "colab": {
          "base_uri": "https://localhost:8080/"
        },
        "id": "vGXExl4F-JR0",
        "outputId": "9422083a-df49-4fe1-fff3-63fcb724c98e"
      },
      "execution_count": 9,
      "outputs": [
        {
          "output_type": "stream",
          "name": "stdout",
          "text": [
            "<class 'str'>\n",
            "<class 'list'>\n",
            "<class 'tuple'>\n"
          ]
        }
      ]
    },
    {
      "cell_type": "code",
      "source": [
        "# 3. Mapping Type:\n",
        "\n",
        "# Dictionary (dict): Represents a collection of key-value pairs.\n",
        "person = {\"name\": \"Alice\", \"age\": 30}\n",
        "print(type(person))  # Output: <class 'dict'>"
      ],
      "metadata": {
        "colab": {
          "base_uri": "https://localhost:8080/"
        },
        "id": "Bup6l-RI-PYC",
        "outputId": "77fa0bab-ef1b-4aa2-eed5-064816b28b95"
      },
      "execution_count": 10,
      "outputs": [
        {
          "output_type": "stream",
          "name": "stdout",
          "text": [
            "<class 'dict'>\n"
          ]
        }
      ]
    },
    {
      "cell_type": "code",
      "source": [
        "# 4. Set Types:\n",
        "\n",
        "# Set (set): Represents an unordered collection of unique items.\n",
        "fruits = {\"apple\", \"banana\", \"orange\"}\n",
        "print(type(fruits))  # Output: <class 'set'>\n",
        "\n",
        "# Frozenset (frozenset): Represents an immutable set.\n",
        "frozen_fruits = frozenset({\"apple\", \"banana\", \"orange\"})\n",
        "print(type(frozen_fruits))  # Output: <class 'frozenset'>"
      ],
      "metadata": {
        "colab": {
          "base_uri": "https://localhost:8080/"
        },
        "id": "zSvHbTJd-SXM",
        "outputId": "f30406aa-9899-486a-f646-8e61db3881ea"
      },
      "execution_count": 11,
      "outputs": [
        {
          "output_type": "stream",
          "name": "stdout",
          "text": [
            "<class 'set'>\n",
            "<class 'frozenset'>\n"
          ]
        }
      ]
    },
    {
      "cell_type": "code",
      "source": [
        "# 5. Boolean Type:\n",
        "\n",
        "# Boolean (bool): Represents either True or False.\n",
        "is_valid = True\n",
        "print(type(is_valid))  # Output: <class 'bool'>"
      ],
      "metadata": {
        "colab": {
          "base_uri": "https://localhost:8080/"
        },
        "id": "N8SYTtfd-Usr",
        "outputId": "9baefcc4-eac3-4447-9942-728e3bfe4c9e"
      },
      "execution_count": 12,
      "outputs": [
        {
          "output_type": "stream",
          "name": "stdout",
          "text": [
            "<class 'bool'>\n"
          ]
        }
      ]
    },
    {
      "cell_type": "code",
      "source": [
        "# 6. None Type:\n",
        "\n",
        "# NoneType (None): Represents the absence of a value.\n",
        "result = None\n",
        "print(type(result))  # Output: <class 'NoneType'>"
      ],
      "metadata": {
        "colab": {
          "base_uri": "https://localhost:8080/"
        },
        "id": "8N93H6xZ-XJm",
        "outputId": "3f0caf2d-02cf-49b1-d936-3131884e41ca"
      },
      "execution_count": 13,
      "outputs": [
        {
          "output_type": "stream",
          "name": "stdout",
          "text": [
            "<class 'NoneType'>\n"
          ]
        }
      ]
    },
    {
      "cell_type": "code",
      "source": [
        "# Basic Arithmetic Operations\n",
        "\n",
        "# Addition\n",
        "result = 5 + 3\n",
        "print(\"5 + 3 =\", result)  # Output: 5 + 3 = 8\n",
        "\n",
        "# Subtraction\n",
        "result = 10 - 4\n",
        "print(\"10 - 4 =\", result)  # Output: 10 - 4 = 6\n",
        "\n",
        "# Multiplication\n",
        "result = 6 * 7\n",
        "print(\"6 * 7 =\", result)  # Output: 6 * 7 = 42\n",
        "\n",
        "# Division\n",
        "result = 15 / 3\n",
        "print(\"15 / 3 =\", result)  # Output: 15 / 3 = 5.0\n",
        "\n",
        "# Floor Division (returns the quotient without the remainder)\n",
        "result = 17 // 3\n",
        "print(\"17 // 3 =\", result)  # Output: 17 // 3 = 5\n",
        "\n",
        "# Modulo (returns the remainder of the division)\n",
        "result = 17 % 3\n",
        "print(\"17 % 3 =\", result)  # Output: 17 % 3 = 2\n",
        "\n",
        "# Exponentiation\n",
        "result = 2 ** 3\n",
        "print(\"2 ** 3 =\", result)  # Output: 2 ** 3 = 8\n",
        "\n",
        "\n"
      ],
      "metadata": {
        "colab": {
          "base_uri": "https://localhost:8080/"
        },
        "id": "kP-BPpxJ-43e",
        "outputId": "5f78a904-b84d-42c5-c551-e292d9a2e9c4"
      },
      "execution_count": 18,
      "outputs": [
        {
          "output_type": "stream",
          "name": "stdout",
          "text": [
            "5 + 3 = 8\n",
            "10 - 4 = 6\n",
            "6 * 7 = 42\n",
            "15 / 3 = 5.0\n",
            "17 // 3 = 5\n",
            "17 % 3 = 2\n",
            "2 ** 3 = 8\n"
          ]
        }
      ]
    },
    {
      "cell_type": "code",
      "source": [
        "# Even or Odd Number Check\n",
        "\n",
        "num = int(input(\"Enter a number: \"))\n",
        "\n",
        "if num % 2 == 0:\n",
        "  print(num, \"is an even number.\")\n",
        "else:\n",
        "  print(num, \"is an odd number.\")\n"
      ],
      "metadata": {
        "colab": {
          "base_uri": "https://localhost:8080/"
        },
        "id": "5o7-ibko_GUv",
        "outputId": "a4b619e7-2a3e-4ae3-ab4c-e764cfcd6113"
      },
      "execution_count": 22,
      "outputs": [
        {
          "output_type": "stream",
          "name": "stdout",
          "text": [
            "Enter a number: 9\n",
            "9 is an odd number.\n"
          ]
        }
      ]
    },
    {
      "cell_type": "code",
      "source": [
        "# Lists in Python\n",
        "\n",
        "# Creating a list\n",
        "fruits = [\"apple\", \"banana\", \"orange\"]\n",
        "\n",
        "# Accessing elements\n",
        "print(fruits[0])  # Output: apple\n",
        "print(fruits[1])  # Output: banana\n",
        "\n",
        "# Modifying elements\n",
        "fruits[2] = \"grape\"\n",
        "print(fruits)  # Output: ['apple', 'banana', 'grape']\n",
        "\n",
        "# Adding elements\n",
        "fruits.append(\"mango\")\n",
        "print(fruits)  # Output: ['apple', 'banana', 'grape', 'mango']\n",
        "\n",
        "# Removing elements\n",
        "fruits.remove(\"banana\")\n",
        "print(fruits)  # Output: ['apple', 'grape', 'mango']"
      ],
      "metadata": {
        "colab": {
          "base_uri": "https://localhost:8080/"
        },
        "id": "ONiH8zfj_IOk",
        "outputId": "71009cf1-bac7-4416-ace2-312392b31580"
      },
      "execution_count": 20,
      "outputs": [
        {
          "output_type": "stream",
          "name": "stdout",
          "text": [
            "apple\n",
            "banana\n",
            "['apple', 'banana', 'grape']\n",
            "['apple', 'banana', 'grape', 'mango']\n",
            "['apple', 'grape', 'mango']\n"
          ]
        }
      ]
    }
  ]
}