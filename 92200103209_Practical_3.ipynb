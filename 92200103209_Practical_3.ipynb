{
  "nbformat": 4,
  "nbformat_minor": 0,
  "metadata": {
    "colab": {
      "provenance": [],
      "authorship_tag": "ABX9TyMvWxbkdJAvvHaiAgcF2gDO",
      "include_colab_link": true
    },
    "kernelspec": {
      "name": "python3",
      "display_name": "Python 3"
    },
    "language_info": {
      "name": "python"
    }
  },
  "cells": [
    {
      "cell_type": "markdown",
      "metadata": {
        "id": "view-in-github",
        "colab_type": "text"
      },
      "source": [
        "<a href=\"https://colab.research.google.com/github/AUMANSH/Data-Science-Projects/blob/main/92200103209_Practical_3.ipynb\" target=\"_parent\"><img src=\"https://colab.research.google.com/assets/colab-badge.svg\" alt=\"Open In Colab\"/></a>"
      ]
    },
    {
      "cell_type": "code",
      "source": [
        "import pandas as pd\n",
        "import numpy as np"
      ],
      "metadata": {
        "id": "U39vtthM43iV"
      },
      "execution_count": 1,
      "outputs": []
    },
    {
      "cell_type": "code",
      "source": [
        "\n",
        "# Sample noisy data\n",
        "data = {'A': [1, 2, np.nan, 4, 5],\n",
        "        'B': [6, 7, 8, np.nan, 10],\n",
        "        'C': [11, 12, 13, 14, 15]}"
      ],
      "metadata": {
        "id": "y_180eSw4zfz"
      },
      "execution_count": 2,
      "outputs": []
    },
    {
      "cell_type": "code",
      "source": [
        "df = pd.DataFrame(data)"
      ],
      "metadata": {
        "id": "3NR4z2CL4mv_"
      },
      "execution_count": 3,
      "outputs": []
    },
    {
      "cell_type": "code",
      "source": [
        "# i. Dropping missing values\n",
        "df_dropped = df.dropna()\n",
        "print(\"DataFrame after dropping missing values:\\n\", df_dropped)"
      ],
      "metadata": {
        "colab": {
          "base_uri": "https://localhost:8080/",
          "height": 0
        },
        "id": "KjFfHwUN4oS6",
        "outputId": "cdfcdfee-ea32-4813-bdeb-656a07d4ff1b"
      },
      "execution_count": 4,
      "outputs": [
        {
          "output_type": "stream",
          "name": "stdout",
          "text": [
            "DataFrame after dropping missing values:\n",
            "      A     B   C\n",
            "0  1.0   6.0  11\n",
            "1  2.0   7.0  12\n",
            "4  5.0  10.0  15\n"
          ]
        }
      ]
    },
    {
      "cell_type": "code",
      "source": [
        "# ii. Filling with mean\n",
        "df_mean = df.fillna(df.mean())\n",
        "print(\"\\nDataFrame after filling with mean:\\n\", df_mean)"
      ],
      "metadata": {
        "colab": {
          "base_uri": "https://localhost:8080/",
          "height": 0
        },
        "id": "_9JV9hA14rcn",
        "outputId": "1aaa22a7-0015-48ff-bfeb-bd8045c2751e"
      },
      "execution_count": 5,
      "outputs": [
        {
          "output_type": "stream",
          "name": "stdout",
          "text": [
            "\n",
            "DataFrame after filling with mean:\n",
            "      A      B   C\n",
            "0  1.0   6.00  11\n",
            "1  2.0   7.00  12\n",
            "2  3.0   8.00  13\n",
            "3  4.0   7.75  14\n",
            "4  5.0  10.00  15\n"
          ]
        }
      ]
    },
    {
      "cell_type": "code",
      "source": [
        "# iii. Filling with median\n",
        "df_median = df.fillna(df.median())\n",
        "print(\"\\nDataFrame after filling with median:\\n\", df_median)"
      ],
      "metadata": {
        "colab": {
          "base_uri": "https://localhost:8080/",
          "height": 0
        },
        "id": "lM17BGk84ggX",
        "outputId": "93b9c7b4-8cd6-4aa2-eea6-1812d8437296"
      },
      "execution_count": 6,
      "outputs": [
        {
          "output_type": "stream",
          "name": "stdout",
          "text": [
            "\n",
            "DataFrame after filling with median:\n",
            "      A     B   C\n",
            "0  1.0   6.0  11\n",
            "1  2.0   7.0  12\n",
            "2  3.0   8.0  13\n",
            "3  4.0   7.5  14\n",
            "4  5.0  10.0  15\n"
          ]
        }
      ]
    },
    {
      "cell_type": "code",
      "source": [
        "\n",
        "# iv. Filling with mode\n",
        "df_mode = df.fillna(df.mode().iloc[0])\n",
        "print(\"\\nDataFrame after filling with mode:\\n\", df_mode)"
      ],
      "metadata": {
        "colab": {
          "base_uri": "https://localhost:8080/",
          "height": 0
        },
        "id": "x3NQWOFD4uzf",
        "outputId": "a53dde0a-a8be-4d14-9606-9e618a1688d2"
      },
      "execution_count": 7,
      "outputs": [
        {
          "output_type": "stream",
          "name": "stdout",
          "text": [
            "\n",
            "DataFrame after filling with mode:\n",
            "      A     B   C\n",
            "0  1.0   6.0  11\n",
            "1  2.0   7.0  12\n",
            "2  1.0   8.0  13\n",
            "3  4.0   6.0  14\n",
            "4  5.0  10.0  15\n"
          ]
        }
      ]
    }
  ]
}