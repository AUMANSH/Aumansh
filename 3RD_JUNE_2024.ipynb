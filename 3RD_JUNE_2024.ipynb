{
  "nbformat": 4,
  "nbformat_minor": 0,
  "metadata": {
    "colab": {
      "provenance": [],
      "authorship_tag": "ABX9TyOORlEXpmfSkvWdTN75ia35",
      "include_colab_link": true
    },
    "kernelspec": {
      "name": "python3",
      "display_name": "Python 3"
    },
    "language_info": {
      "name": "python"
    }
  },
  "cells": [
    {
      "cell_type": "markdown",
      "metadata": {
        "id": "view-in-github",
        "colab_type": "text"
      },
      "source": [
        "<a href=\"https://colab.research.google.com/github/AUMANSH/Data-Science-Projects/blob/main/3RD_JUNE_2024.ipynb\" target=\"_parent\"><img src=\"https://colab.research.google.com/assets/colab-badge.svg\" alt=\"Open In Colab\"/></a>"
      ]
    },
    {
      "cell_type": "code",
      "source": [
        "\n",
        "a=15 #integer\n",
        "b=67.8 #float\n",
        "c=\"Mumbai\" #string"
      ],
      "metadata": {
        "id": "xIOSbk3VxRdO"
      },
      "execution_count": null,
      "outputs": []
    },
    {
      "cell_type": "markdown",
      "source": [
        "Type conversion in Python is the process of changing the data type of an object. There are two types of type conversion in Python:\n",
        "Implicit type conversion\n",
        "is performed automatically by the Python interpreter. For example, if you add an integer to a float, the interpreter will automatically convert the integer to a float.\n",
        "Explicit type conversion,\n",
        "also known as type casting, is performed manually by the programmer. For example, if you want to convert a string to an integer, you can use the int() function."
      ],
      "metadata": {
        "id": "zIzZ3EWW25Lu"
      }
    },
    {
      "cell_type": "markdown",
      "source": [
        "Numbers: are used to represent numerical values and can include numbers with and without decimal points.\n",
        " Integers (int) are whole numbers, while floats (float) are numbers with decimal points.\n",
        "  Complex numbers (complex) are numbers with a real and imaginary part.\n"
      ],
      "metadata": {
        "id": "H-fnAD4R2aW3"
      }
    },
    {
      "cell_type": "code",
      "source": [
        "#Write a program to see if a give number is positive or negative.\n",
        "num = float(input(\"Enter a Number: \"))\n",
        "if num > 0:\n",
        "    print(num,' is a positive number')\n",
        "else:\n",
        "    print(num,' is a negative number')\n",
        "#Write another program to see if the number is even or odd.\n",
        "num = float(input(\"Enter a Number: \"))\n",
        "if num / 2:\n",
        "    print(num,' is a even number')\n",
        "else:\n",
        "    print(num,' is a odd number')"
      ],
      "metadata": {
        "colab": {
          "base_uri": "https://localhost:8080/"
        },
        "id": "FBDjQxM4yTIq",
        "outputId": "63f2e233-7c4a-4af2-e3fb-1d366cfd5070"
      },
      "execution_count": null,
      "outputs": [
        {
          "output_type": "stream",
          "name": "stdout",
          "text": [
            "Enter a Number: 12\n",
            "12.0  is a positive number\n",
            "Enter a Number: 35\n",
            "35.0  is a even number\n"
          ]
        }
      ]
    },
    {
      "cell_type": "code",
      "source": [
        "# Convert an integer to a string:\n",
        "b = 7\n",
        "c = str(b)\n",
        "# Convert a string to a boolean:\n",
        "d = \"Hello\"\n",
        "e = bool(d)\n",
        "# Convert a list to a tuple:\n",
        "f = [1, 2, 3]\n",
        "g = tuple(f)"
      ],
      "metadata": {
        "id": "m2tOHAC8xqVR"
      },
      "execution_count": null,
      "outputs": []
    },
    {
      "cell_type": "markdown",
      "source": [
        "Mutable data types can be changed after writing data, whereas immutable data types can't be changed after writing data.\n",
        "Lists, dictionaries, and sets are instances of mutable data types, while numbers, strings, and tuples are instances of immutable data types."
      ],
      "metadata": {
        "id": "3FivUITW13kQ"
      }
    },
    {
      "cell_type": "code",
      "source": [
        "def str_replace(text,ch):\n",
        "    result = ''\n",
        "    for i in text:\n",
        "            if i == ' ':\n",
        "                i = ch\n",
        "            result += i\n",
        "    return result\n",
        "text='l vey u'\n",
        "ch = \"o\"\n",
        "str_replace(text,ch)\n",
        "     #loveyou"
      ],
      "metadata": {
        "colab": {
          "base_uri": "https://localhost:8080/",
          "height": 35
        },
        "id": "ZdV0ujfWx3mf",
        "outputId": "2822a9e4-dc04-4e86-fc78-550629397575"
      },
      "execution_count": null,
      "outputs": [
        {
          "output_type": "execute_result",
          "data": {
            "text/plain": [
              "'loveyou'"
            ],
            "application/vnd.google.colaboratory.intrinsic+json": {
              "type": "string"
            }
          },
          "metadata": {},
          "execution_count": 6
        }
      ]
    },
    {
      "cell_type": "code",
      "source": [
        "# Python Code to check if a number is\n",
        "# Positive, Negative, Odd, Even, Zero\n",
        "# Using if...elif...else\n",
        "num = 10\n",
        "if num > 0:\n",
        "\tprint(\"Positive number\")\n",
        "elif num == 0:\n",
        "\tprint(\"Zero\")\n",
        "else:\n",
        "\tprint(\"Negative number\")\n",
        "\n",
        "# Checking for odd and even\n",
        "if (num % 2) == 0:\n",
        "\tprint(\"{0} is Even\".format(num))\n",
        "else:\n",
        "\tprint(\"{0} is Odd\".format(num))\n"
      ],
      "metadata": {
        "colab": {
          "base_uri": "https://localhost:8080/"
        },
        "id": "oOILNYZ7yEl7",
        "outputId": "8fd216a4-d299-4369-ffad-fd9765441733"
      },
      "execution_count": null,
      "outputs": [
        {
          "output_type": "stream",
          "name": "stdout",
          "text": [
            "Positive number\n",
            "10 is Even\n"
          ]
        }
      ]
    },
    {
      "cell_type": "markdown",
      "source": [
        "Python keywords are an essential part of the language and are used in every Python program. By understanding what Python keywords are and how they are used, you can write more efficient and readable code."
      ],
      "metadata": {
        "id": "6XNSPLvN1eJQ"
      }
    },
    {
      "cell_type": "code",
      "source": [
        "# This is a comment.\n",
        "print(\"Hello, world!\")\n",
        "\n",
        "# This is a variable assignment.\n",
        "x = 5  # This assigns the value 5 to the variable x.\n",
        "\n",
        "# This is a conditional statement.\n",
        "if x > 10:  # This checks if x is greater than 10.\n",
        "    print(\"x is greater than 10.\")  # This prints \"x is greater than 10.\" to the console.\n",
        "else:\n",
        "    print(\"x is not greater than 10.\")  # This prints \"x is not greater than 10.\" to the console.\n",
        "\n",
        "# This is a for loop.\n",
        "for i in range(5):  # This loops from 0 to 4.\n",
        "    print(i)  # This prints the value of i to the console.\n",
        "\n",
        "# This is a function definition.\n",
        "def my_function(x):  # This defines a function called my_function that takes one argument, x.\n",
        "    return x + 1  # This returns the value of x + 1.\n",
        "\n",
        "# This is a function call.\n",
        "print(my_function(5))"
      ],
      "metadata": {
        "id": "gEqJbuQmxV_5"
      },
      "execution_count": null,
      "outputs": []
    },
    {
      "cell_type": "markdown",
      "source": [
        "local varables that are declared within a function their scope is wihtin that functiononly.  Global variable can be accessed from any part of the code, including inside functions."
      ],
      "metadata": {
        "id": "rqD8y3PZxY3w"
      }
    },
    {
      "cell_type": "code",
      "source": [
        "\n",
        "#Slicing is the extraction of a part of a string, list, or tuple\n",
        "string = \"Hello, World!\"\n",
        "print(string[2:5])\n",
        "# Output: \"llo\"\n",
        "print(string[:5])\n",
        "# Output: \"Hello\"\n",
        "print(string[2:])\n",
        "# Output: \"llo, World!\"\n",
        "print(string[-5:])\n",
        "# Output: \"World!\"\n"
      ],
      "metadata": {
        "colab": {
          "base_uri": "https://localhost:8080/"
        },
        "id": "xqy-P6KHxaJt",
        "outputId": "e26ec04e-56fa-4ab6-c830-9695282b983d"
      },
      "execution_count": null,
      "outputs": [
        {
          "output_type": "stream",
          "name": "stdout",
          "text": [
            "llo\n",
            "Hello\n",
            "llo, World!\n",
            "orld!\n"
          ]
        }
      ]
    }
  ]
}