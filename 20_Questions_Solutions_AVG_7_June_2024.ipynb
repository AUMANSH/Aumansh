{
  "nbformat": 4,
  "nbformat_minor": 0,
  "metadata": {
    "colab": {
      "provenance": [],
      "authorship_tag": "ABX9TyNzGeYrzfmoXecj8nf+GbFl",
      "include_colab_link": true
    },
    "kernelspec": {
      "name": "python3",
      "display_name": "Python 3"
    },
    "language_info": {
      "name": "python"
    }
  },
  "cells": [
    {
      "cell_type": "markdown",
      "metadata": {
        "id": "view-in-github",
        "colab_type": "text"
      },
      "source": [
        "<a href=\"https://colab.research.google.com/github/AUMANSH/Aumansh/blob/main/20_Questions_Solutions_AVG_7_June_2024.ipynb\" target=\"_parent\"><img src=\"https://colab.research.google.com/assets/colab-badge.svg\" alt=\"Open In Colab\"/></a>"
      ]
    },
    {
      "cell_type": "code",
      "execution_count": null,
      "metadata": {
        "id": "ip9agKUP84mf"
      },
      "outputs": [],
      "source": []
    },
    {
      "cell_type": "markdown",
      "source": [
        "1.How do you create an empty set in Python?\n",
        "\n",
        "Answer:"
      ],
      "metadata": {
        "id": "D6fsG2LQ85XU"
      }
    },
    {
      "cell_type": "code",
      "source": [
        "# Creating an empty set\n",
        "empty_set = set()\n",
        "print(empty_set)\n",
        "print(type(empty_set))\n"
      ],
      "metadata": {
        "colab": {
          "base_uri": "https://localhost:8080/"
        },
        "id": "GInA7lSm9Jbr",
        "outputId": "f72ae179-e762-4f2b-ebf5-20fbe84472d5"
      },
      "execution_count": 1,
      "outputs": [
        {
          "output_type": "stream",
          "name": "stdout",
          "text": [
            "set()\n",
            "<class 'set'>\n"
          ]
        }
      ]
    },
    {
      "cell_type": "markdown",
      "source": [
        "2.What is the difference between a set and a list?\n",
        "\n",
        "Answer:A list maintains the order of items. The elements can be accessed by their index positions. A set is an unordered collection, which means the items do not have a defined order, and you cannot access elements by index.Lists are mutable, meaning you can modify them after creation (e.g., add, remove, or change items).Sets are also mutable, so you can add or remove items, but you cannot change items because they do not support indexing.Lists can contain duplicate elements.Sets do not allow duplicate elements. If you try to add a duplicate item to a set, it will be ignored.Lists are generally faster for accessing elements by index. However, operations like checking for membership (in) or removing elements can be slower for large lists since they require scanning the list.Sets are optimized for membership tests and can be faster than lists for checking if an item exists. They are implemented using hash tables, making these operations on average O(1)."
      ],
      "metadata": {
        "id": "P5AEY36J9bkz"
      }
    },
    {
      "cell_type": "code",
      "source": [
        "my_list = [1, 2, 3, 4]\n",
        "print(my_list[0])\n",
        "my_set = {1, 2, 3, 4}\n",
        "my_list = [1, 2, 3]\n",
        "my_list.append(4)\n",
        "my_list[0] = 10\n",
        "my_set = {1, 2, 3}\n",
        "my_set.add(4)\n",
        "my_set.remove(1)\n",
        "my_list = [1, 2, 2, 3]\n",
        "\n",
        "\n"
      ],
      "metadata": {
        "colab": {
          "base_uri": "https://localhost:8080/"
        },
        "id": "fFtXmssp-IUL",
        "outputId": "71fdb77e-9ee5-4164-d02f-b5da60aa9707"
      },
      "execution_count": 2,
      "outputs": [
        {
          "output_type": "stream",
          "name": "stdout",
          "text": [
            "1\n"
          ]
        }
      ]
    },
    {
      "cell_type": "markdown",
      "source": [
        "3.How can you add an element to an existing set?\n",
        "\n",
        "Answer:To add an element to an existing set in Python, you can use the add() method. This method takes a single argument, which is the element you want to add to the set. If the element is already present in the set, the set will remain unchanged since sets do not allow duplicate elements."
      ],
      "metadata": {
        "id": "kTglr6FK-zNu"
      }
    },
    {
      "cell_type": "code",
      "source": [
        "my_set = {1, 2, 3}\n",
        "my_set.add(4)\n",
        "print(my_set)\n",
        "my_set.add(2)\n",
        "print(my_set)\n"
      ],
      "metadata": {
        "colab": {
          "base_uri": "https://localhost:8080/"
        },
        "id": "FP_6z91v-_rq",
        "outputId": "4c90136a-f5e5-4772-da20-92483c1c13be"
      },
      "execution_count": 3,
      "outputs": [
        {
          "output_type": "stream",
          "name": "stdout",
          "text": [
            "{1, 2, 3, 4}\n",
            "{1, 2, 3, 4}\n"
          ]
        }
      ]
    },
    {
      "cell_type": "markdown",
      "source": [
        "4.How do you remove an element from a set?\n",
        "\n",
        "Answer:The remove() method removes the specified element from the set. If the element is not found, it raises a KeyError."
      ],
      "metadata": {
        "id": "dKis3nR5_WtD"
      }
    },
    {
      "cell_type": "code",
      "source": [
        "my_set = {1, 2, 3, 4}\n",
        "my_set.remove(3)\n",
        "print(my_set)\n",
        "\n"
      ],
      "metadata": {
        "colab": {
          "base_uri": "https://localhost:8080/"
        },
        "id": "WZFX3Mvp_hKM",
        "outputId": "ad8317f5-caec-40f4-f933-7e1820ed8cf8"
      },
      "execution_count": 4,
      "outputs": [
        {
          "output_type": "stream",
          "name": "stdout",
          "text": [
            "{1, 2, 4}\n"
          ]
        }
      ]
    },
    {
      "cell_type": "markdown",
      "source": [
        "5.What happens if you try to add a duplicate element to a set?\n",
        "\n",
        "Answer:\n",
        "If you try to add a duplicate element to a set in Python, the set will remain unchanged because sets do not allow duplicate elements.The add() method will not raise an error or exception; it will simply ignore the duplicate.\n"
      ],
      "metadata": {
        "id": "kzmDdsvu_zDP"
      }
    },
    {
      "cell_type": "code",
      "source": [
        "\n",
        "my_set = {1, 2, 3}\n",
        "my_set.add(2)\n",
        "print(my_set)\n"
      ],
      "metadata": {
        "colab": {
          "base_uri": "https://localhost:8080/"
        },
        "id": "CVYtTfTK_9Ko",
        "outputId": "bb4ac7a1-c8b7-42fa-96c7-0b33e08a0313"
      },
      "execution_count": 5,
      "outputs": [
        {
          "output_type": "stream",
          "name": "stdout",
          "text": [
            "{1, 2, 3}\n"
          ]
        }
      ]
    },
    {
      "cell_type": "markdown",
      "source": [
        "6.How do you find the length (number of elements) of a set?\n",
        "\n",
        "Answer: To find the length (number of elements) of a set in Python, you can use the built-in len() function. This function returns the number of elements in the set.\n"
      ],
      "metadata": {
        "id": "0Gw6f2baASfQ"
      }
    },
    {
      "cell_type": "code",
      "source": [
        "my_set = {1, 2, 3, 4}\n",
        "length = len(my_set)\n",
        "print(length)\n"
      ],
      "metadata": {
        "colab": {
          "base_uri": "https://localhost:8080/"
        },
        "id": "LMAb59t5AiYT",
        "outputId": "652f5594-f068-429b-9b23-cccc38532c8c"
      },
      "execution_count": 6,
      "outputs": [
        {
          "output_type": "stream",
          "name": "stdout",
          "text": [
            "4\n"
          ]
        }
      ]
    },
    {
      "cell_type": "markdown",
      "source": [
        "7.What is the purpose of the in keyword when used with sets?\n",
        "\n",
        "Answer:The in keyword is used to check for membership in a set. It determines whether a specific element is present in the set, returning True if the element is found and False otherwise. This operation is efficient in sets because they are implemented using hash tables, which allow for average-case O(1) time complexity for membership checks."
      ],
      "metadata": {
        "id": "8VjE4Q_zAuHS"
      }
    },
    {
      "cell_type": "code",
      "source": [
        "my_set = {1, 2, 3, 4}\n",
        "is_present = 3 in my_set\n",
        "print(is_present)\n",
        "is_not_present = 5 in my_set\n",
        "print(is_not_present)\n"
      ],
      "metadata": {
        "colab": {
          "base_uri": "https://localhost:8080/"
        },
        "id": "57epM5-kBE7I",
        "outputId": "9f7e3278-a8e9-45ae-9843-1c773a5d1b07"
      },
      "execution_count": 7,
      "outputs": [
        {
          "output_type": "stream",
          "name": "stdout",
          "text": [
            "True\n",
            "False\n"
          ]
        }
      ]
    },
    {
      "cell_type": "markdown",
      "source": [
        "8.How can you check if an element exists in a set?\n",
        "\n",
        "Answer:To check if an element exists in a set in Python, you can use the in keyword. This keyword checks for membership and returns True if the element is present in the set and False otherwise.\n"
      ],
      "metadata": {
        "id": "GO_F0dGyBZjh"
      }
    },
    {
      "cell_type": "code",
      "source": [
        "my_set = {1, 2, 3, 4}\n",
        "element = 3\n",
        "if element in my_set:\n",
        "    print(f\"{element} is in the set\")\n",
        "else:\n",
        "    print(f\"{element} is not in the set\")\n",
        "element = 5\n",
        "if element in my_set:\n",
        "    print(f\"{element} is in the set\")\n",
        "else:\n",
        "    print(f\"{element} is not in the set\")"
      ],
      "metadata": {
        "colab": {
          "base_uri": "https://localhost:8080/"
        },
        "id": "d5qhN_pwBpNF",
        "outputId": "3f0647a7-07d1-4dfb-a04a-2710d3d9888c"
      },
      "execution_count": 8,
      "outputs": [
        {
          "output_type": "stream",
          "name": "stdout",
          "text": [
            "3 is in the set\n",
            "5 is not in the set\n"
          ]
        }
      ]
    },
    {
      "cell_type": "markdown",
      "source": [
        "9.Explain the concept of set intersection.\n",
        "\n",
        "Answer:Set intersection is a fundamental operation in set theory, used to find common elements between two or more sets. In Python, the intersection of sets can be computed using the & operator, the intersection() method, or the intersection_update() method.\n"
      ],
      "metadata": {
        "id": "zfmd0YqbB9XD"
      }
    },
    {
      "cell_type": "code",
      "source": [
        "\n",
        "set1 = {1, 2, 3, 4}\n",
        "set2 = {3, 4, 5, 6}\n",
        "intersection_set = set1 & set2\n",
        "\n",
        "print(intersection_set)"
      ],
      "metadata": {
        "colab": {
          "base_uri": "https://localhost:8080/"
        },
        "id": "TBy-b1CuCFZC",
        "outputId": "522d646a-9c93-4ce9-e21c-dda014d2bf97"
      },
      "execution_count": 9,
      "outputs": [
        {
          "output_type": "stream",
          "name": "stdout",
          "text": [
            "{3, 4}\n"
          ]
        }
      ]
    },
    {
      "cell_type": "markdown",
      "source": [
        "10. How do you find the union of two sets?\n",
        "\n",
        "Answer:In Python, you can find the union of two sets using the | operator or the union() method. The union of sets is a new set containing all unique elements from both sets."
      ],
      "metadata": {
        "id": "h4nioMSfCcWm"
      }
    },
    {
      "cell_type": "code",
      "source": [
        "\n",
        "set1 = {1, 2, 3, 4}\n",
        "set2 = {3, 4, 5, 6}\n",
        "\n",
        "union_set = set1.union(set2)\n",
        "\n",
        "print(union_set)"
      ],
      "metadata": {
        "id": "r225-ZRGCpnS",
        "colab": {
          "base_uri": "https://localhost:8080/"
        },
        "outputId": "69481cf3-295d-44fa-b353-6edf35b73659"
      },
      "execution_count": 10,
      "outputs": [
        {
          "output_type": "stream",
          "name": "stdout",
          "text": [
            "{1, 2, 3, 4, 5, 6}\n"
          ]
        }
      ]
    },
    {
      "cell_type": "markdown",
      "source": [
        "11.What is the difference between add() and update() methods for sets?\n",
        "\n",
        "Answer:\n",
        "add() Method: The add() method is used to add a single element to a set. If the element is already present in the set, this method does nothing (since sets do not allow duplicate elements)."
      ],
      "metadata": {
        "id": "uFJsBtJqKVP9"
      }
    },
    {
      "cell_type": "code",
      "source": [
        "my_set = {1, 2, 3}\n",
        "my_set.add(4)"
      ],
      "metadata": {
        "id": "VHu-oWQyKmzx"
      },
      "execution_count": 11,
      "outputs": []
    },
    {
      "cell_type": "markdown",
      "source": [
        "update() Method: The update() method is used to add multiple elements to a set. It takes an iterable (like a list, tuple, or another set) as an argument and adds each element of that iterable to the set. If any element is already present in the set, it is ignored."
      ],
      "metadata": {
        "id": "atCYx68KKuhg"
      }
    },
    {
      "cell_type": "code",
      "source": [
        "my_set = {1, 2, 3}\n",
        "my_set.update([3, 4, 5])\n"
      ],
      "metadata": {
        "id": "VnadhTxIKx-9"
      },
      "execution_count": 12,
      "outputs": []
    },
    {
      "cell_type": "markdown",
      "source": [
        "12.How can you create a set from a list?\n",
        "\n",
        "Answer:Using set() Constructor:\n",
        "You can directly pass the list to the set() constructor, which will create a set containing all the unique elements from the list."
      ],
      "metadata": {
        "id": "T5mZJShOK808"
      }
    },
    {
      "cell_type": "code",
      "source": [
        "my_list = [1, 2, 3, 4, 5]\n",
        "my_set = set(my_list)\n"
      ],
      "metadata": {
        "id": "oS2BnJnMLDfl"
      },
      "execution_count": 13,
      "outputs": []
    },
    {
      "cell_type": "markdown",
      "source": [
        "Using Curly Braces {}:\n",
        "You can use curly braces {} to define a set literal and pass the list elements inside the braces. This will also create a set containing all the unique elements from the list."
      ],
      "metadata": {
        "id": "f9ZL2-UuLF55"
      }
    },
    {
      "cell_type": "code",
      "source": [
        "my_list = [1, 2, 3, 4, 5]\n",
        "my_set = {x for x in my_list}\n"
      ],
      "metadata": {
        "id": "fmiLQJa0LI3z"
      },
      "execution_count": 14,
      "outputs": []
    },
    {
      "cell_type": "markdown",
      "source": [
        "13.How do you remove all elements from a set?\n",
        "\n",
        "Answer:To remove all elements from a set in Python, you can use the clear() method. The clear() method removes all elements from the set, leaving it empty. Here's how to use it"
      ],
      "metadata": {
        "id": "FzLq-r4XLRjw"
      }
    },
    {
      "cell_type": "code",
      "source": [
        "my_set = {1, 2, 3, 4, 5}\n",
        "my_set.clear()\n"
      ],
      "metadata": {
        "id": "ksUR9YpeLX2j"
      },
      "execution_count": 15,
      "outputs": []
    },
    {
      "cell_type": "markdown",
      "source": [
        "14.. What is the output of the following code snippet?\n",
        "    \n",
        "    python\n",
        "    my_set = {1, 2, 3}\n",
        "    my_set.add(4)\n",
        "    print(my_set)\n",
        "\n",
        "    Answer:\n"
      ],
      "metadata": {
        "id": "JTpMNm5TLeDZ"
      }
    },
    {
      "cell_type": "code",
      "source": [
        "{1, 2, 3, 4}\n"
      ],
      "metadata": {
        "id": "lJmCP7XeLxXV",
        "colab": {
          "base_uri": "https://localhost:8080/"
        },
        "outputId": "cadda2c6-4ee3-4637-e623-9abc85f3c4d1"
      },
      "execution_count": 16,
      "outputs": [
        {
          "output_type": "execute_result",
          "data": {
            "text/plain": [
              "{1, 2, 3, 4}"
            ]
          },
          "metadata": {},
          "execution_count": 16
        }
      ]
    },
    {
      "cell_type": "markdown",
      "source": [
        "15. How do you create an immutable set (frozenset)?\n",
        "\n",
        "Answer:To create an immutable set, you can use the frozenset() constructor, which returns a frozenset object. Once created, the elements of a frozenset cannot be changed or modified. Here's how to create a frozenset:"
      ],
      "metadata": {
        "id": "Lb7Y95-NL3hZ"
      }
    },
    {
      "cell_type": "code",
      "source": [
        "my_frozenset = frozenset([1, 2, 3, 4, 5])\n",
        "my_frozenset1 = frozenset({1, 2, 3, 4, 5})\n"
      ],
      "metadata": {
        "id": "B79Qjhc2MAIh"
      },
      "execution_count": 17,
      "outputs": []
    },
    {
      "cell_type": "markdown",
      "source": [
        "16.How can you find the difference between two sets?\n",
        "\n",
        "Answer:\n",
        "You can use the - operator between two sets to find the elements that are present in the first set but not in the second set."
      ],
      "metadata": {
        "id": "yLzTGBw4MILB"
      }
    },
    {
      "cell_type": "code",
      "source": [
        "set1 = {1, 2, 3, 4, 5}\n",
        "set2 = {3, 4, 5, 6, 7}\n",
        "difference = set1 - set2\n",
        "print(difference)\n"
      ],
      "metadata": {
        "colab": {
          "base_uri": "https://localhost:8080/"
        },
        "id": "pQr5CV85MWMf",
        "outputId": "339eea5c-b471-470e-f94b-c5621c6348f8"
      },
      "execution_count": 18,
      "outputs": [
        {
          "output_type": "stream",
          "name": "stdout",
          "text": [
            "{1, 2}\n"
          ]
        }
      ]
    },
    {
      "cell_type": "markdown",
      "source": [
        "Using the difference() Method:\n",
        "You can also use the difference() method, which returns a new set containing the elements that are present in the first set but not in the second set."
      ],
      "metadata": {
        "id": "YWIVzgKQMZ6T"
      }
    },
    {
      "cell_type": "code",
      "source": [
        "set1 = {1, 2, 3, 4, 5}\n",
        "set2 = {3, 4, 5, 6, 7}\n",
        "difference = set1.difference(set2)\n",
        "print(difference)\n"
      ],
      "metadata": {
        "colab": {
          "base_uri": "https://localhost:8080/"
        },
        "id": "lsnuULEOMc20",
        "outputId": "9fa7f99e-ba3b-42a9-e812-5bed52935846"
      },
      "execution_count": 19,
      "outputs": [
        {
          "output_type": "stream",
          "name": "stdout",
          "text": [
            "{1, 2}\n"
          ]
        }
      ]
    },
    {
      "cell_type": "markdown",
      "source": [
        "17.Explain the concept of symmetric difference.\n",
        "\n",
        "Answer:The symmetric difference between two sets is a set operation that returns a new set containing elements that are in either of the sets, but not in both. In other words, it returns the set of elements that are present in one of the sets, but not in both sets simultaneously.\n",
        "\n",
        "Mathematically, if A and B are two sets, the symmetric difference (often denoted by\n",
        "𝐴\n",
        "Δ\n",
        "𝐵\n",
        "AΔB) is defined as:\n",
        "\n",
        "𝐴\n",
        "Δ\n",
        "𝐵\n",
        "=\n",
        "(\n",
        "𝐴\n",
        "−\n",
        "𝐵\n",
        ")\n",
        "∪\n",
        "(\n",
        "𝐵\n",
        "−\n",
        "𝐴\n",
        ")\n",
        "AΔB=(A−B)∪(B−A)\n",
        "\n",
        "In Python, you can find the symmetric difference between two sets using either the ^ operator or the symmetric_difference() method.\n",
        "\n",
        "Using the ^ Operator:\n",
        "You can use the ^ operator between two sets to find the symmetric difference."
      ],
      "metadata": {
        "id": "T94jYWyiMk9c"
      }
    },
    {
      "cell_type": "code",
      "source": [
        "set1 = {1, 2, 3, 4, 5}\n",
        "set2 = {3, 4, 5, 6, 7}\n",
        "symmetric_diff = set1 ^ set2\n",
        "print(symmetric_diff)"
      ],
      "metadata": {
        "id": "Mvhy6mp-M8ii",
        "colab": {
          "base_uri": "https://localhost:8080/"
        },
        "outputId": "2345c126-bd1b-4825-854b-787f048eb408"
      },
      "execution_count": 20,
      "outputs": [
        {
          "output_type": "stream",
          "name": "stdout",
          "text": [
            "{1, 2, 6, 7}\n"
          ]
        }
      ]
    },
    {
      "cell_type": "markdown",
      "source": [
        "Using the symmetric_difference() Method:\n",
        "You can also use the symmetric_difference() method, which returns a new set containing the symmetric difference between two sets."
      ],
      "metadata": {
        "id": "uFV6IuXlNHJn"
      }
    },
    {
      "cell_type": "code",
      "source": [
        "set1 = {1, 2, 3, 4, 5}\n",
        "set2 = {3, 4, 5, 6, 7}\n",
        "symmetric_diff = set1.symmetric_difference(set2)\n",
        "print(symmetric_diff)"
      ],
      "metadata": {
        "id": "lQ6gnxvDNJ2v",
        "colab": {
          "base_uri": "https://localhost:8080/"
        },
        "outputId": "1722b602-cace-4564-d0ad-431a29350220"
      },
      "execution_count": 21,
      "outputs": [
        {
          "output_type": "stream",
          "name": "stdout",
          "text": [
            "{1, 2, 6, 7}\n"
          ]
        }
      ]
    },
    {
      "cell_type": "markdown",
      "source": [
        "18.How do you iterate over the elements of a set?\n",
        "\n",
        "Answer:You can iterate over the elements of a set in Python using a for loop. Here's how:"
      ],
      "metadata": {
        "id": "7bb02b5DNNSG"
      }
    },
    {
      "cell_type": "code",
      "source": [
        "my_set = {1, 2, 3, 4, 5}\n",
        "\n",
        "for element in my_set:\n",
        "    print(element)"
      ],
      "metadata": {
        "id": "tE7LFiUFNYce",
        "colab": {
          "base_uri": "https://localhost:8080/"
        },
        "outputId": "18500414-fc79-4309-d009-c8e9b43eb43a"
      },
      "execution_count": 22,
      "outputs": [
        {
          "output_type": "stream",
          "name": "stdout",
          "text": [
            "1\n",
            "2\n",
            "3\n",
            "4\n",
            "5\n"
          ]
        }
      ]
    },
    {
      "cell_type": "markdown",
      "source": [
        "This loop will iterate over each element in the set my_set and print them one by one. The order of elements in a set is not guaranteed to be the same as the order in which they were inserted, as sets are unordered collections. Therefore, the elements may be printed in any order.\n",
        "\n",
        "\n",
        "\n",
        "\n",
        "\n",
        "\n"
      ],
      "metadata": {
        "id": "NUou6ap9NbKj"
      }
    },
    {
      "cell_type": "markdown",
      "source": [
        "19.What is the purpose of the discard() method?\n",
        "\n",
        "Answer:The discard() method in Python sets is used to remove a specific element from the set if it is present. If the element is not present in the set, discard() does nothing and doesn't raise an error, unlike the remove() method which raises a KeyError if the element is not found."
      ],
      "metadata": {
        "id": "Z2bdS-ekNgj1"
      }
    },
    {
      "cell_type": "code",
      "source": [
        "my_set = {1, 2, 3, 4, 5}\n",
        "my_set.discard(3)\n",
        "print(my_set)  # Output: {1, 2, 4, 5}"
      ],
      "metadata": {
        "id": "w19-nfSeNsIT",
        "colab": {
          "base_uri": "https://localhost:8080/"
        },
        "outputId": "e8009e3a-3107-4597-ddc1-4cc2cdf427e3"
      },
      "execution_count": 23,
      "outputs": [
        {
          "output_type": "stream",
          "name": "stdout",
          "text": [
            "{1, 2, 4, 5}\n"
          ]
        }
      ]
    },
    {
      "cell_type": "markdown",
      "source": [
        "20.How can you convert a set to a list?\n",
        "\n",
        "Answer:\n",
        "You can directly pass the set to the list() constructor, which will create a list containing all the elements of the set."
      ],
      "metadata": {
        "id": "z_t38C7gNt83"
      }
    },
    {
      "cell_type": "code",
      "source": [
        "my_set = {1, 2, 3, 4, 5}\n",
        "my_list = list(my_set)"
      ],
      "metadata": {
        "id": "xPYOFh2KN_ZS"
      },
      "execution_count": 24,
      "outputs": []
    },
    {
      "cell_type": "markdown",
      "source": [
        "\n",
        "You can also use a list comprehension to convert a set to a list."
      ],
      "metadata": {
        "id": "_BRLKiI-OD5-"
      }
    },
    {
      "cell_type": "code",
      "source": [
        "my_set = {1, 2, 3, 4, 5}\n",
        "my_list = [x for x in my_set]"
      ],
      "metadata": {
        "id": "k2LNYyCuOLLw"
      },
      "execution_count": 25,
      "outputs": []
    }
  ]
}